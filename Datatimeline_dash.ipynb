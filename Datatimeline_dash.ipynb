{
  "nbformat": 4,
  "nbformat_minor": 0,
  "metadata": {
    "colab": {
      "name": "2262_app_datatimeline_v2.ipynb",
      "provenance": [],
      "collapsed_sections": [
        "bmw0KutdwlUI",
        "4f8VaErQgEtJ",
        "my_SPmIJkARq",
        "Z8eZr6GTwAZ6",
        "J2fDIaHznlvR"
      ]
    },
    "kernelspec": {
      "name": "python382jvsc74a57bd031f2aee4e71d21fbe5cf8b01ff0e069b9275f58929596ceb00d14d90e3e16cd6",
      "display_name": "Python 3.8.2 64-bit"
    },
    "metadata": {
      "interpreter": {
        "hash": "31f2aee4e71d21fbe5cf8b01ff0e069b9275f58929596ceb00d14d90e3e16cd6"
      }
    }
  },
  "cells": [
    {
      "cell_type": "markdown",
      "metadata": {
        "id": "bmw0KutdwlUI"
      },
      "source": [
        "# Preliminaries: setup notebook and data"
      ]
    },
    {
      "cell_type": "markdown",
      "metadata": {
        "id": "4f8VaErQgEtJ"
      },
      "source": [
        "##Install packages"
      ]
    },
    {
      "cell_type": "code",
      "metadata": {
        "id": "ELEoHcrncRlO",
        "colab": {
          "base_uri": "https://localhost:8080/"
        },
        "outputId": "3c974291-aaf3-4e30-d1aa-bf7bea86104e"
      },
      "source": [
        "# !pip install mne\n",
        "# !pip install jupyter-dash -q\n",
        "# !pip install plotly==4.9"
      ],
      "execution_count": 4,
      "outputs": []
    },
    {
      "cell_type": "markdown",
      "metadata": {
        "id": "my_SPmIJkARq"
      },
      "source": [
        "##Load libraries"
      ]
    },
    {
      "cell_type": "markdown",
      "metadata": {
        "id": "Z8eZr6GTwAZ6"
      },
      "source": [
        "###General"
      ]
    },
    {
      "cell_type": "code",
      "metadata": {
        "id": "2R0HW46MnDwk"
      },
      "source": [
        "import numpy as np\n",
        "import pandas as pd\n",
        "import datetime\n",
        "import os\n",
        "import mne\n",
        "import shutil"
      ],
      "execution_count": null,
      "outputs": []
    },
    {
      "cell_type": "markdown",
      "metadata": {
        "id": "J2fDIaHznlvR"
      },
      "source": [
        "###Dash"
      ]
    },
    {
      "cell_type": "code",
      "metadata": {
        "id": "0ND_6L0Zjze_"
      },
      "source": [
        "import dash\n",
        "import dash_core_components as dcc\n",
        "import dash_html_components as html\n",
        "from dash_table import DataTable\n",
        "\n",
        "import plotly.express as px\n",
        "\n",
        "from jupyter_dash import JupyterDash\n",
        "from dash.dependencies import Input, Output, State"
      ],
      "execution_count": null,
      "outputs": []
    },
    {
      "cell_type": "markdown",
      "metadata": {
        "id": "zRvwSCVy3W-Y"
      },
      "source": [
        "#Timeline App: main code\n",
        "\n",
        "Make a dataframe for plotly express (px) timeline:<br>\n",
        "* fields: label, start, stop\n",
        "\n"
      ]
    },
    {
      "cell_type": "code",
      "metadata": {
        "id": "6CuhagULR51V"
      },
      "source": [
        "#list of subject IDs to select from\n",
        "sid_ = np.arange(0,100,1)\n",
        "#path to subject-level data\n",
        "  \n",
        "df = pd.DataFrame([\n",
        "    dict(Task=\"\", Start='', Finish='')])\n",
        "\n",
        "fig = px.timeline(df, x_start=\"Start\", x_end=\"Finish\", y=\"Task\")\n",
        "\n",
        "external_stylesheets = ['https://codepen.io/chriddyp/pen/bWLwgP.css']\n",
        "\n",
        "app = JupyterDash(__name__, external_stylesheets=external_stylesheets)\n",
        "\n",
        "app.layout = html.Div([\n",
        "    html.Div([\n",
        "            dcc.Dropdown(\n",
        "                id='Subject',\n",
        "                options=[{'label': i, 'value': i} for i in sid_]\n",
        "            )\n",
        "            ,\n",
        "       dcc.Graph(id='Ganntt',figure=fig),\n",
        "       html.Br(),\n",
        "    html.Div(id='my-output'),\n",
        "    ##optional submission button for doing stuff with the selection\n",
        "    # html.Button(id='submit-button-state', n_clicks=0, children='Submit'),\n",
        "    #  html.Div(id='my-output2')\n",
        "        ],\n",
        "        style={'width': '100%', 'display': 'inline-block'})\n",
        "    ])\n",
        "\n"
      ],
      "execution_count": 6,
      "outputs": []
    },
    {
      "cell_type": "code",
      "metadata": {
        "id": "GbWUQsuYuCJ2"
      },
      "source": [
        "@app.callback(\n",
        "    Output(component_id='Ganntt', component_property='figure'),\n",
        "    [Input(component_id='Subject', component_property='value')]\n",
        ")\n",
        "def update_output_div(sid):\n",
        "  tline_path = f'/timestamps_{sid}.csv'\n",
        "  DFtline = pd.read_pickle(tline_path)\n",
        "  fig = px.timeline(DFtimeline, x_start=\"start\", x_end=\"stop\", y=\"data_class\",color=\"data_class\",title=f'Subject: {sid}',hover_name=\"fname\")\n",
        "  fig.update_yaxes(autorange=\"reversed\") # otherwise tasks are listed from the bottom up\n",
        "  return fig\n",
        "\n",
        "@app.callback(\n",
        "    Output(component_id='my-output', component_property='children'),\n",
        "    [Input('Ganntt', 'hoverData')\n",
        "    ])\n",
        "def update_output(x):\n",
        "   return 'Data info: {}'.format(x)\n",
        " \n",
        "\n"
      ],
      "execution_count": null,
      "outputs": []
    },
    {
      "cell_type": "markdown",
      "metadata": {
        "id": "2WXc_1GfuK0u"
      },
      "source": [
        "#Timeline App: launch"
      ]
    },
    {
      "cell_type": "code",
      "metadata": {
        "id": "FDGMB9ROoTed",
        "colab": {
          "base_uri": "https://localhost:8080/",
          "height": 671
        },
        "outputId": "0adde03d-3ea5-44b7-98e6-14cced55e3ab"
      },
      "source": [
        "app.run_server(mode='inline')"
      ],
      "execution_count": null,
      "outputs": [
        {
          "output_type": "display_data",
          "data": {
            "application/javascript": [
              "(async (port, path, width, height, cache, element) => {\n",
              "    if (!google.colab.kernel.accessAllowed && !cache) {\n",
              "      return;\n",
              "    }\n",
              "    element.appendChild(document.createTextNode(''));\n",
              "    const url = await google.colab.kernel.proxyPort(port, {cache});\n",
              "    const iframe = document.createElement('iframe');\n",
              "    iframe.src = url + path;\n",
              "    iframe.height = height;\n",
              "    iframe.width = width;\n",
              "    iframe.style.border = 0;\n",
              "    element.appendChild(iframe);\n",
              "  })(8050, \"/\", \"100%\", 650, false, window.element)"
            ],
            "text/plain": [
              "<IPython.core.display.Javascript object>"
            ]
          },
          "metadata": {
            "tags": []
          }
        }
      ]
    }
  ]
}